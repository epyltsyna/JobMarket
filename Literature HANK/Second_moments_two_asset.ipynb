{
 "cells": [
  {
   "cell_type": "code",
   "execution_count": 1,
   "id": "a760b655-20ac-49a4-815d-a6259d6806b8",
   "metadata": {},
   "outputs": [],
   "source": [
    "### This code is based on two asset model from https://github.com/shade-econ/sequence-jacobian\n",
    "### If you have any questions, feel free to contact me by: ekaterina@shabalins.com\n",
    "\n",
    "### loading directories\n",
    "import numpy as np\n",
    "import matplotlib.pyplot as plt\n",
    "\n",
    "from sequence_jacobian import simple, solved, combine, create_model, estimation  # functions\n",
    "from sequence_jacobian import grids, hetblocks   "
   ]
  },
  {
   "cell_type": "code",
   "execution_count": 2,
   "id": "c6ab35f0-e046-48eb-8191-74cc583cfb58",
   "metadata": {},
   "outputs": [],
   "source": [
    "### solved blocks\n",
    "@solved(unknowns={'pi': (-0.1, 0.1)}, targets=['nkpc'], solver=\"brentq\")\n",
    "def pricing_solved(pi, mc, r, Y, kappap, mup):\n",
    "    nkpc = kappap * (mc - 1/mup) + Y(+1) / Y * (1 + pi(+1)).apply(np.log) / \\\n",
    "           (1 + r(+1)) - (1 + pi).apply(np.log)\n",
    "    return nkpc\n",
    "\n",
    "@solved(unknowns={'p': (5, 15)}, targets=['equity'], solver=\"brentq\")\n",
    "def arbitrage_solved(div, p, r):\n",
    "    equity = div(+1) + p(+1) - p * (1 + r(+1))\n",
    "    return equity"
   ]
  },
  {
   "cell_type": "code",
   "execution_count": 3,
   "id": "fffe1d66-764c-48ca-ba88-3f050310e15c",
   "metadata": {},
   "outputs": [],
   "source": [
    "### production blocks\n",
    "@simple\n",
    "def labor(Y, w, K, Z, alpha):\n",
    "    N = (Y / Z / K(-1) ** alpha) ** (1 / (1 - alpha))\n",
    "    mc = w * N / (1 - alpha) / Y\n",
    "    return N, mc\n",
    "\n",
    "\n",
    "@simple\n",
    "def investment(Q, K, r, N, mc, Z, delta, epsI, alpha):\n",
    "    inv = (K / K(-1) - 1) / (delta * epsI) + 1 - Q\n",
    "    val = alpha * Z(+1) * (N(+1) / K) ** (1 - alpha) * mc(+1) -\\\n",
    "        (K(+1) / K - (1 - delta) + (K(+1) / K - 1) ** 2 / (2 * delta * epsI)) +\\\n",
    "        K(+1) / K * Q(+1) - (1 + r(+1)) * Q\n",
    "    return inv, val\n",
    "\n",
    "\n",
    "production = combine([labor, investment])                              # create combined block\n",
    "production_solved = production.solved(unknowns={'Q': 1., 'K': 10.},    # turn it into solved block\n",
    "                                      targets=['inv', 'val'],\n",
    "                                      solver='broyden_custom')"
   ]
  },
  {
   "cell_type": "code",
   "execution_count": 4,
   "id": "f500187f-1309-4f11-b470-8f46e107d472",
   "metadata": {},
   "outputs": [],
   "source": [
    "### heterogeneous households\n",
    "\n",
    "def make_grids(bmax, amax, kmax, nB, nA, nK, nZ, rho_z, sigma_z):\n",
    "    b_grid = grids.agrid(amax=bmax, n=nB)\n",
    "    a_grid = grids.agrid(amax=amax, n=nA)\n",
    "    k_grid = grids.agrid(amax=kmax, n=nK)[::-1].copy()\n",
    "    e_grid, _, Pi = grids.markov_rouwenhorst(rho=rho_z, sigma=sigma_z, N=nZ)\n",
    "    return b_grid, a_grid, k_grid, e_grid, Pi\n",
    "\n",
    "\n",
    "def income(e_grid, tax, w, N):\n",
    "    z_grid = (1 - tax) * w * N * e_grid\n",
    "    return z_grid\n",
    "\n",
    "hh = hetblocks.hh_twoasset.hh\n",
    "hh_ext = hh.add_hetinputs([income, make_grids])"
   ]
  },
  {
   "cell_type": "code",
   "execution_count": 5,
   "id": "43fae097-67f0-4706-aee5-60f83cd6006c",
   "metadata": {},
   "outputs": [],
   "source": [
    "### additional blocks and creation of the model\n",
    "\n",
    "import sequence_jacobian.examples.two_asset as m\n",
    "\n",
    "blocks = [hh_ext, production_solved, pricing_solved, arbitrage_solved,\n",
    "          m.dividend, m.taylor, m.fiscal, m.share_value,\n",
    "          m.finance, m.wage, m.union, m.mkt_clearing]\n",
    "\n",
    "hank = create_model(blocks, name='Two-Asset HANK')"
   ]
  },
  {
   "cell_type": "code",
   "execution_count": 6,
   "id": "577044d8-efd9-4cd1-89fb-178f38f3fecd",
   "metadata": {},
   "outputs": [],
   "source": [
    "### steady state model\n",
    "blocks_ss = [hh_ext, m.partial_ss, m.union_ss,\n",
    "             m.dividend, m.taylor, m.fiscal, m.share_value, m.finance, m.mkt_clearing]\n",
    "\n",
    "hank_ss = create_model(blocks_ss, name='Two-Asset HANK SS')"
   ]
  },
  {
   "cell_type": "code",
   "execution_count": 7,
   "id": "3bf9a716-62f2-47f9-8814-267f0d88ba37",
   "metadata": {},
   "outputs": [],
   "source": [
    "### calibration\n",
    "#calibration = {'Y': 1., 'N': 1.0, 'K': 10., 'r': 0.0125, 'rstar': 0.0125, 'tot_wealth': 14,\n",
    "#               'delta': 0.02, 'pi': 0., 'kappap': 0.1, 'muw': 1.1, 'Bh': 1.04, 'Bg': 2.8,\n",
    "#               'G': 0.2, 'eis': 0.5, 'frisch': 1., 'chi0': 0.25, 'chi2': 2, 'epsI': 4,\n",
    "#               'omega': 0.005, 'kappaw': 0.1, 'phi': 1.5, 'nZ': 3, 'nB': 50, 'nA': 70, 'nK': 50,\n",
    "#               'bmax': 50, 'amax': 4000, 'kmax': 1, 'rho_z': 0.966, 'sigma_z': 0.92}\n",
    "\n",
    "calibration = {'Y': 1., 'N': 1.0, 'K': 10., 'r': 0.0125, 'rstar': 0.0125, 'tot_wealth': 14,\n",
    "               'delta': 0.02, 'pi': 0., 'kappap':  0.030, 'muw': 1.1, 'Bh': 1.04, 'Bg': 2.8,\n",
    "               'G': 0.2, 'eis': 0.5, 'frisch': 1., 'chi0': 0.25, 'chi2': 2, 'epsI': 0.502,\n",
    "               'omega': 0.005, 'kappaw': 0.011, 'phi': 1.297, 'nZ': 3, 'nB': 50, 'nA': 70, 'nK': 50,\n",
    "               'bmax': 50, 'amax': 4000, 'kmax': 1, 'rho_z': 0.966, 'sigma_z': 0.92}\n",
    "\n",
    "unknowns_ss = {'beta': 0.976, 'chi1': 6.5}\n",
    "targets_ss = {'asset_mkt': 0., 'B': 'Bh'}\n",
    "\n",
    "cali = hank_ss.solve_steady_state(calibration, unknowns_ss, targets_ss, solver='broyden_custom')"
   ]
  },
  {
   "cell_type": "code",
   "execution_count": 8,
   "id": "9de08873-3626-4b8a-835d-5493a6e1e403",
   "metadata": {},
   "outputs": [],
   "source": [
    "### steady state and dynamics\n",
    "ss =  hank.steady_state(cali) # ss\n",
    "\n",
    "exogenous = ['Z', 'G', 'rstar']\n",
    "unknowns = ['r', 'w', 'Y']\n",
    "targets = ['asset_mkt', 'fisher', 'wnkpc']\n",
    "T = 300\n",
    "\n",
    "J_ha = hh_ext.jacobian(ss, inputs=['N', 'r', 'ra', 'rb', 'tax', 'w'], T=T)\n",
    "G = hank.solve_jacobian(ss, unknowns, targets, exogenous, T=T, Js={'hh': J_ha}) # dynamics"
   ]
  },
  {
   "cell_type": "code",
   "execution_count": 9,
   "id": "80a11624-5d34-4891-bce6-a81c9bd3a1b5",
   "metadata": {},
   "outputs": [
    {
     "name": "stdout",
     "output_type": "stream",
     "text": [
      "Z Y C I w\n",
      "[0.78128332 1.         0.75948078 0.22915784 0.76458717]\n"
     ]
    }
   ],
   "source": [
    "### analytical second moments\n",
    "#sigma_persist = 0.4582\n",
    "#rho = 0.9577\n",
    "sigma_persist = 0.072 # from estimated two-asset\n",
    "rho =  0.951 # from estimated two-asset\n",
    "dZ = rho**(np.arange(T))\n",
    "dY, dC, dI, dw = G['Y']['Z'] @ dZ, G['C']['Z'] @ dZ, G['I']['Z'] @ dZ, G['w']['Z'] @ dZ\n",
    "dX1 = np.stack([dZ, dY, dC, dI, dw], axis=1)\n",
    "Sigma = estimation.all_covariances(dX1[:, :, np.newaxis], sigma_persist)\n",
    "sd = np.sqrt(np.diag(Sigma[0, ...]))\n",
    "print('Z', 'Y', 'C', 'I', 'w')\n",
    "print(sd / sd[1]) # relative to Y"
   ]
  },
  {
   "cell_type": "code",
   "execution_count": 10,
   "id": "79479658-1975-48bc-aa96-c058c4baf1ca",
   "metadata": {},
   "outputs": [],
   "source": [
    "### function for numerical simulation\n",
    "def simulation(endogenous, exogenous, T, se, rho, G, ss): # only for linear solutions!\n",
    "    \n",
    "    # input variables:\n",
    "    # endogenous - variables which trajectories are simulated\n",
    "    # exogenous - shocks\n",
    "    # T - number of time periods for simulation (should be equal to row dimention of G)\n",
    "    # se - vector of std of all shocks\n",
    "    # rho - vector of persistences of the shocks\n",
    "    # G - model jacobians\n",
    "    # ss - model steady state\n",
    "    \n",
    "    # output variables:\n",
    "    # end_variables - simulated trajectories\n",
    "    \n",
    "    i = 0 # iterator through shocks\n",
    "    end_variables = np.zeros((len(endogenous), T)) # collects paths of endogenous variables\n",
    "    for shock in exogenous: # iteration through shocks\n",
    "        dshock = np.random.normal(loc=0, scale=se[i], size=(T,)) # generate shocks\n",
    "        j = 0 # itereator through endogeneous variables\n",
    "        for variable in endogenous: # iteration through endogeneous variables\n",
    "            for t in np.arange(0, len(dshock), 1): # consider each shock at time = t as unexpected and iterate through all time periods/shocks\n",
    "                if rho[i] == 0: # no persistence\n",
    "                    coefs = np.zeros((len(dshock),))\n",
    "                    coefs[t:] = G[variable][shock][:T-t, 0] # IRF coefficients from the on impact till T-t; from the first column to extract current and not news shocks\n",
    "                    end_variables[j] += coefs * dshock[t] * ss[variable] # add responses to shock \"shock\" that occurs at time t\n",
    "                else:\n",
    "                    shock_pers = np.zeros((len(dshock),))\n",
    "                    for jj in np.arange(t, T, 1):\n",
    "                        shock_pers[jj] = dshock[jj] * (t == jj) + shock_pers[jj-1] * rho[i] # accumulation due to persistence\n",
    "                    coefs = np.block([[np.zeros((t,T))], [np.zeros((T-t, t)), G[variable][shock][:T-t, :T-t]]]) # IRF coefficients from the on impact till T-t; from the first column to T-t column to extract current and news shocks (persistence is taken into account by the agents once the shock occured)\n",
    "                    #end_variables[j] += coefs @ shock_pers * ss[variable]\n",
    "                    end_variables[j] += coefs @ shock_pers# add responses to shock \"shock\" that occurs at time t\n",
    "            j += 1\n",
    "        i += 1\n",
    "    return end_variables"
   ]
  },
  {
   "cell_type": "code",
   "execution_count": 11,
   "id": "0f0b3030-a1cf-4026-a387-8fbc34d83f02",
   "metadata": {},
   "outputs": [
    {
     "name": "stdout",
     "output_type": "stream",
     "text": [
      "Y C I w\n",
      "[1.         0.74632924 0.24163601 0.82783314]\n"
     ]
    }
   ],
   "source": [
    "### numerical moments\n",
    "exogenous = ['Z']\n",
    "endogenous = ['Y', 'C', 'I', 'w'] # variables, which trajectories are simulated\n",
    "#se = np.array([0.4582]) # from replication of SW2007 in MMB\n",
    "#rho = np.array([0.9577]) # from replication of SW2007 in MMB\n",
    "se = np.array([0.072]) # from estimated two-asset\n",
    "rho =  np.array([0.951]) # from estimated two-asset\n",
    "\n",
    "std_all = np.zeros((150, 4))\n",
    "mean_all = np.zeros((150, 4))\n",
    "for i in np.arange(0, 150, 1):\n",
    "    simulated_variables = simulation(endogenous, exogenous, T, se, rho, G, ss) # trajectories of all endogenous variables in deviations from steady states (exogenous shocks are treated as sequence of unexpected shocks)\n",
    "    std_all[i] = np.std(simulated_variables[:, 50:250], axis=1) # std of all endogenous variables (in the same order as endogenous)\n",
    "    mean_all[i] = np.mean(simulated_variables[:, 50:250], axis=1)\n",
    "    #print(i) # takes 7 minutes\n",
    "simulated_sd = np.mean(mean_all, axis=0)\n",
    "print('Y', 'C', 'I', 'w')\n",
    "print(simulated_sd / simulated_sd[0]) # relative to Y"
   ]
  },
  {
   "cell_type": "code",
   "execution_count": 12,
   "id": "de10771c-03a4-444c-81d2-4ba0b299ad92",
   "metadata": {},
   "outputs": [
    {
     "name": "stdout",
     "output_type": "stream",
     "text": [
      "Y C I w\n",
      "[1.         0.69824481 0.29039874 0.89410847]\n"
     ]
    }
   ],
   "source": [
    "### numerical moments with three shocks (monetary policy, government spending and TFP)\n",
    "#se = np.array([0.4582, 0.5291,  0.2449]) # from replication of SW2007 in MMB\n",
    "#rho = np.array([0.9577, 0.9767, 0.15]) # from replication of SW2007 in MMB\n",
    "\n",
    "se = np.array([0.072, 0.643,  0.663]) # from estimated two-asset\n",
    "rho = np.array([0.951, 0.952, 0.737]) # from estimated two-asset\n",
    "\n",
    "std_all = np.zeros((150, 4))\n",
    "mean_all = np.zeros((150, 4))\n",
    "for i in np.arange(0, 150, 1):\n",
    "    simulated_variables = simulation(endogenous, exogenous, T, se, rho, G, ss) # trajectories of all endogenous variables in deviations from steady states (exogenous shocks are treated as sequence of unexpected shocks)\n",
    "    std_all[i] = np.std(simulated_variables[:, 50:250], axis=1) # std of all endogenous variables (in the same order as endogenous)\n",
    "    mean_all[i] = np.mean(simulated_variables[:, 50:250], axis=1)\n",
    "    #print(i)\n",
    "simulated_sd = np.mean(mean_all, axis=0)\n",
    "print('Y', 'C', 'I', 'w')\n",
    "print(simulated_sd / simulated_sd[0]) # relative to Y"
   ]
  },
  {
   "cell_type": "code",
   "execution_count": 13,
   "id": "a3f5fc31-4f68-4fdc-af25-de153ab9ec43",
   "metadata": {},
   "outputs": [
    {
     "name": "stdout",
     "output_type": "stream",
     "text": [
      "0\n",
      "10\n",
      "20\n",
      "30\n",
      "40\n",
      "50\n",
      "60\n",
      "70\n",
      "80\n",
      "90\n",
      "Y C I w\n",
      "[1.         0.54645322 0.14204396 0.34444066]\n"
     ]
    }
   ],
   "source": [
    "### numerical moments with seven shocks (as in SW 2007)\n",
    "\n",
    "# adding discount factor shocks\n",
    "@simple\n",
    "def discount_factor(eps_beta): # add this block to shock beta and get risk-premium shock as in SW2007\n",
    "    beta = 0.9762739008880043 + eps_beta\n",
    "    return beta\n",
    "\n",
    "# steady state with eps_beta = 0\n",
    "ss['eps_beta'] =  0\n",
    "\n",
    "# dynamics with discount factor block\n",
    "T = 1000\n",
    "blocks = [hh_ext, production_solved, pricing_solved, arbitrage_solved,\n",
    "          m.dividend, m.taylor, m.fiscal, m.share_value,\n",
    "          m.finance, m.wage, m.union, m.mkt_clearing, discount_factor]\n",
    "\n",
    "hank = create_model(blocks, name='Two-Asset HANK')\n",
    "\n",
    "exogenous = ['Z', 'eps_beta', 'G', 'epsI', 'rstar', 'mup', 'muw']\n",
    "\n",
    "J_ha = hh_ext.jacobian(ss, inputs=['N', 'r', 'ra', 'rb', 'tax', 'w'], T=T)\n",
    "G = hank.solve_jacobian(ss, unknowns, targets, exogenous, T=T, Js={'hh': J_ha}) # dynamics\n",
    "\n",
    "# simulations\n",
    "#se = np.array([0.4582, 0.2400 / (1 + ss['r']) ** 2, 0.5291, 0.4526, 0.2449, 0.1410 / ss['mup'] ** 2 * ss['kappap'], 0.2446 / ss['muw'] ** 2 * ss['kappaw']]) # from replication of SW2007 in MMB\n",
    "#rho = np.array([0.9577, 0.2194, 0.9767, 0.7113, 0.15, 0.8895, 0.9688]) # from replication of SW2007 in MMB\n",
    "se = np.array([0.072, 0.096, 0.643, 0.413, 0.663, 0.049, 0.155]) # from replication of SW2007 in MMB\n",
    "rho = np.array([0.951, 0.943, 0.952, 0.656, 0.737, 0.891, 0.586]) # from replication of SW2007 in MMB\n",
    "\n",
    "\n",
    "std_all = np.zeros((100, 4))\n",
    "mean_all = np.zeros((100, 4))\n",
    "for i in np.arange(0, 100, 1):\n",
    "    simulated_variables = simulation(endogenous, exogenous, T, se, rho, G, ss) # trajectories of all endogenous variables in deviations from steady states (exogenous shocks are treated as sequence of unexpected shocks)\n",
    "    std_all[i] = np.std(simulated_variables[:, 50:250], axis=1) # std of all endogenous variables (in the same order as endogenous)\n",
    "    mean_all[i] = np.mean(simulated_variables[:, 50:250], axis=1)\n",
    "    if (i% 10) == 0:\n",
    "        print(i) # takes 6 hours\n",
    "simulated_sd = np.mean(mean_all, axis=0)\n",
    "print('Y', 'C', 'I', 'w')\n",
    "print(simulated_sd / simulated_sd[0]) # relative to Y"
   ]
  },
  {
   "cell_type": "code",
   "execution_count": null,
   "id": "fb690abe-0ab1-4651-bf0b-4ba977d4383a",
   "metadata": {},
   "outputs": [],
   "source": []
  }
 ],
 "metadata": {
  "kernelspec": {
   "display_name": "Python 3 (ipykernel)",
   "language": "python",
   "name": "python3"
  },
  "language_info": {
   "codemirror_mode": {
    "name": "ipython",
    "version": 3
   },
   "file_extension": ".py",
   "mimetype": "text/x-python",
   "name": "python",
   "nbconvert_exporter": "python",
   "pygments_lexer": "ipython3",
   "version": "3.7.3"
  }
 },
 "nbformat": 4,
 "nbformat_minor": 5
}
